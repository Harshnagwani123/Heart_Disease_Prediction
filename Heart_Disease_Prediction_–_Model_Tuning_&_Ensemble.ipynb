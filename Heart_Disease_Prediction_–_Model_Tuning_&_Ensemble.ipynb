{
  "nbformat": 4,
  "nbformat_minor": 0,
  "metadata": {
    "colab": {
      "provenance": [],
      "authorship_tag": "ABX9TyPMcUZHyqUw2XD7DjqWTyn4",
      "include_colab_link": true
    },
    "kernelspec": {
      "name": "python3",
      "display_name": "Python 3"
    },
    "language_info": {
      "name": "python"
    }
  },
  "cells": [
    {
      "cell_type": "markdown",
      "metadata": {
        "id": "view-in-github",
        "colab_type": "text"
      },
      "source": [
        "<a href=\"https://colab.research.google.com/github/Harshnagwani123/Heart_Disease_Prediction/blob/main/Heart_Disease_Prediction_%E2%80%93_Model_Tuning_%26_Ensemble.ipynb\" target=\"_parent\"><img src=\"https://colab.research.google.com/assets/colab-badge.svg\" alt=\"Open In Colab\"/></a>"
      ]
    },
    {
      "cell_type": "code",
      "execution_count": 1,
      "metadata": {
        "id": "x76dqhT2v-Fx"
      },
      "outputs": [],
      "source": [
        "# Basic\n",
        "import pandas as pd\n",
        "import numpy as np\n",
        "\n",
        "# Visualization\n",
        "import matplotlib.pyplot as plt\n",
        "import seaborn as sns\n",
        "\n",
        "# ML\n",
        "from sklearn.model_selection import train_test_split, cross_val_score, GridSearchCV\n",
        "from sklearn.preprocessing import StandardScaler\n",
        "from sklearn.pipeline import Pipeline\n",
        "from sklearn.metrics import accuracy_score, classification_report, confusion_matrix\n",
        "\n",
        "# Models\n",
        "from sklearn.linear_model import LogisticRegression\n",
        "from sklearn.tree import DecisionTreeClassifier\n",
        "from sklearn.ensemble import RandomForestClassifier, AdaBoostClassifier\n",
        "from xgboost import XGBClassifier\n"
      ]
    },
    {
      "cell_type": "code",
      "source": [
        "df = pd.read_csv(\"/content/cleaned_merged_heart_dataset.csv\")\n",
        "\n",
        "X = df.drop(\"target\", axis=1)\n",
        "y = df[\"target\"]\n",
        "\n",
        "# Split data\n",
        "X_train, X_test, y_train, y_test = train_test_split(\n",
        "    X, y, test_size=0.2, random_state=42, stratify=y\n",
        ")"
      ],
      "metadata": {
        "id": "QDMutV_1xaoj"
      },
      "execution_count": 6,
      "outputs": []
    },
    {
      "cell_type": "code",
      "source": [
        "pipe_lr = Pipeline([\n",
        "    (\"scaler\", StandardScaler()),\n",
        "    (\"lr\", LogisticRegression(max_iter=1000))\n",
        "])\n",
        "\n",
        "# 5-Fold CV\n",
        "cv_scores = cross_val_score(pipe_lr, X_train, y_train, cv=5, scoring=\"accuracy\")\n",
        "print(\"Logistic Regression CV Accuracy:\", cv_scores.mean())\n"
      ],
      "metadata": {
        "colab": {
          "base_uri": "https://localhost:8080/"
        },
        "id": "O7ogWGHZyFLj",
        "outputId": "f01ec8c3-f4b1-4e3b-c6f4-8bf1cadd8206"
      },
      "execution_count": 7,
      "outputs": [
        {
          "output_type": "stream",
          "name": "stdout",
          "text": [
            "Logistic Regression CV Accuracy: 0.7490066225165564\n"
          ]
        }
      ]
    },
    {
      "cell_type": "code",
      "source": [
        "param_grid = {\n",
        "    \"n_estimators\": [50, 100, 200],\n",
        "    \"max_depth\": [3, 5, 10, None]\n",
        "}\n",
        "\n",
        "grid_rf = GridSearchCV(\n",
        "    RandomForestClassifier(random_state=42),\n",
        "    param_grid,\n",
        "    cv=5,\n",
        "    scoring=\"accuracy\",\n",
        "    n_jobs=-1\n",
        ")\n",
        "\n",
        "grid_rf.fit(X_train, y_train)\n",
        "\n",
        "print(\"Best RF Params:\", grid_rf.best_params_)\n",
        "print(\"Best RF CV Score:\", grid_rf.best_score_)\n",
        "\n",
        "# Evaluate on test\n",
        "y_pred = grid_rf.predict(X_test)\n",
        "print(\"Test Accuracy:\", accuracy_score(y_test, y_pred))\n"
      ],
      "metadata": {
        "colab": {
          "base_uri": "https://localhost:8080/"
        },
        "id": "UOoosIPPyfy5",
        "outputId": "80873b50-100f-4552-e4b7-ee306d090729"
      },
      "execution_count": 8,
      "outputs": [
        {
          "output_type": "stream",
          "name": "stdout",
          "text": [
            "Best RF Params: {'max_depth': None, 'n_estimators': 200}\n",
            "Best RF CV Score: 0.9675496688741723\n",
            "Test Accuracy: 0.9841269841269841\n"
          ]
        }
      ]
    },
    {
      "cell_type": "markdown",
      "source": [
        "ADABOOST"
      ],
      "metadata": {
        "id": "NND4RdLQypV-"
      }
    },
    {
      "cell_type": "code",
      "source": [
        "ada = AdaBoostClassifier(n_estimators=100, random_state=42)\n",
        "ada.fit(X_train, y_train)\n",
        "y_pred_ada = ada.predict(X_test)\n",
        "\n",
        "print(\"AdaBoost Accuracy:\", accuracy_score(y_test, y_pred_ada))\n"
      ],
      "metadata": {
        "colab": {
          "base_uri": "https://localhost:8080/"
        },
        "id": "YbplHRwvyrYm",
        "outputId": "44992380-ab04-4109-c3cb-3b80a7428f7c"
      },
      "execution_count": 9,
      "outputs": [
        {
          "output_type": "stream",
          "name": "stdout",
          "text": [
            "AdaBoost Accuracy: 0.7936507936507936\n"
          ]
        }
      ]
    },
    {
      "cell_type": "markdown",
      "source": [
        "XGBOOST"
      ],
      "metadata": {
        "id": "Ywt_ficIyvlx"
      }
    },
    {
      "cell_type": "code",
      "source": [
        "xgb = XGBClassifier(use_label_encoder=False, eval_metric=\"logloss\", random_state=42)\n",
        "xgb.fit(X_train, y_train)\n",
        "y_pred_xgb = xgb.predict(X_test)\n",
        "\n",
        "print(\"XGBoost Accuracy:\", accuracy_score(y_test, y_pred_xgb))\n"
      ],
      "metadata": {
        "colab": {
          "base_uri": "https://localhost:8080/"
        },
        "id": "PvmQrurtys93",
        "outputId": "4db6fbfb-8c76-4256-f259-6d76c623c27e"
      },
      "execution_count": 10,
      "outputs": [
        {
          "output_type": "stream",
          "name": "stdout",
          "text": [
            "XGBoost Accuracy: 0.9761904761904762\n"
          ]
        },
        {
          "output_type": "stream",
          "name": "stderr",
          "text": [
            "/usr/local/lib/python3.12/dist-packages/xgboost/training.py:183: UserWarning: [17:48:02] WARNING: /workspace/src/learner.cc:738: \n",
            "Parameters: { \"use_label_encoder\" } are not used.\n",
            "\n",
            "  bst.update(dtrain, iteration=i, fobj=obj)\n"
          ]
        }
      ]
    },
    {
      "cell_type": "code",
      "source": [
        "results = {\n",
        "    \"Logistic Regression (CV)\": cv_scores.mean(),\n",
        "    \"Random Forest (GridSearch)\": grid_rf.best_score_,\n",
        "    \"AdaBoost\": accuracy_score(y_test, y_pred_ada),\n",
        "    \"XGBoost\": accuracy_score(y_test, y_pred_xgb)\n",
        "}\n",
        "\n",
        "results_df = pd.DataFrame(results.values(), index=results.keys(), columns=[\"Accuracy\"])\n",
        "print(results_df)\n",
        "\n",
        "# Plot\n",
        "results_df.plot(kind=\"bar\", legend=False, figsize=(7,5))\n",
        "plt.ylabel(\"Accuracy\")\n",
        "plt.title(\"Model Comparison\")\n",
        "plt.show()\n"
      ],
      "metadata": {
        "colab": {
          "base_uri": "https://localhost:8080/",
          "height": 737
        },
        "id": "ZgU4kqKKy1oc",
        "outputId": "2e40775f-d9ba-4b2f-87cc-5b586fad5fa9"
      },
      "execution_count": 11,
      "outputs": [
        {
          "output_type": "stream",
          "name": "stdout",
          "text": [
            "                            Accuracy\n",
            "Logistic Regression (CV)    0.749007\n",
            "Random Forest (GridSearch)  0.967550\n",
            "AdaBoost                    0.793651\n",
            "XGBoost                     0.976190\n"
          ]
        },
        {
          "output_type": "display_data",
          "data": {
            "text/plain": [
              "<Figure size 700x500 with 1 Axes>"
            ],
            "image/png": "[encoded data removed]"
          },
          "metadata": {}
        }
      ]
    }
  ]
}